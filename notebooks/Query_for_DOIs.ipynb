{
 "cells": [
  {
   "cell_type": "code",
   "execution_count": 3,
   "id": "9c0dfe23-c196-4a47-b63c-b3f44b599bc5",
   "metadata": {},
   "outputs": [],
   "source": [
    "# Import the function to get connect to the db\n",
    "from snowexsql.db import get_db\n",
    "\n",
    "# Import our class for the points table\n",
    "from snowexsql.data import PointData\n",
    "\n",
    "# Import a useful function to format that data into a dataframe\n",
    "from snowexsql.conversions import query_to_geopandas\n",
    "\n",
    "# Import some tools to build dates \n",
    "from datetime import date\n",
    "\n",
    "# This is what you will use for all of hackweek to access the db\n",
    "db_name = 'snow:hackweek@db.snowexdata.org/snowex'"
   ]
  },
  {
   "cell_type": "code",
   "execution_count": 21,
   "id": "4dcd7298-3697-47ed-b163-e75a723baa57",
   "metadata": {},
   "outputs": [
    {
     "name": "stdout",
     "output_type": "stream",
     "text": [
      "\n",
      "Available DOIs = None, https://doi.org/10.5067/QIANJYJGRWOV, https://doi.org/10.5067/WE9GI1GVMQF6, https://doi.org/10.5067/KZ43HVLZV6G4, https://doi.org/10.5067/Q2LFK0QSVGS2, https://doi.org/10.5067/S5EGFLCIAB18, https://doi.org/10.5067/9IA978JIACAR, preliminary_alaska_pits\n"
     ]
    }
   ],
   "source": [
    "# Site name\n",
    "site_name = \"Grand Mesa\"\n",
    "\n",
    "# Get a session\n",
    "engine, session = get_db(db_name)\n",
    "\n",
    "# The part inside the query function is what we want back, in this case all columns for the point data\n",
    "qry = session.query(PointData)\n",
    "\n",
    "results = session.query(PointData.doi).distinct().all()\n",
    "print('\\nAvailable DOIs = {}'.format(', '.join([str(r[0]) for r in results])))\n",
    "\n",
    "session.close()"
   ]
  },
  {
   "cell_type": "code",
   "execution_count": null,
   "id": "9bc00dbf-5c60-4408-b76b-e9a8c95f9540",
   "metadata": {},
   "outputs": [],
   "source": []
  }
 ],
 "metadata": {
  "kernelspec": {
   "display_name": "Python 3 (ipykernel)",
   "language": "python",
   "name": "python3"
  },
  "language_info": {
   "codemirror_mode": {
    "name": "ipython",
    "version": 3
   },
   "file_extension": ".py",
   "mimetype": "text/x-python",
   "name": "python",
   "nbconvert_exporter": "python",
   "pygments_lexer": "ipython3",
   "version": "3.11.9"
  }
 },
 "nbformat": 4,
 "nbformat_minor": 5
}
