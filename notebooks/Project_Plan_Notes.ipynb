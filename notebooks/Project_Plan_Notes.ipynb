{
 "cells": [
  {
   "cell_type": "code",
   "execution_count": null,
   "metadata": {},
   "outputs": [],
   "source": [
    "08/20/2024\n",
    "\n",
    "1.) Get map in notebook and plot snow pit locations from csv file.\n",
    "2.) Pull different types of test data from database (DOIs, pitIDS, anything from Grand Mesa 2020)\n",
    "\n",
    "DOI + Site ID (COGM) for all 2020 data\n",
    "Task: using code from SX Database tutorial\n",
    "    1) find what data is in each table\n",
    "    2) try to query database for DOI + Site ID (COGM) for all 2020 data \n",
    "\n",
    "Point --> Preetika\n",
    "\n",
    "Layer --> Gail\n",
    "\n",
    "Image --> Jess\n"
   ]
  },
  {
   "cell_type": "code",
   "execution_count": null,
   "metadata": {},
   "outputs": [],
   "source": [
    "08/21/2024\n",
    "\n",
    "TO DO:\n",
    "\n",
    "1.) Map pop-up - Preetika\n",
    "2.) Continue working to pull needed data from database (Gail and Jess)\n",
    "3.) Get list of DOIs for all SnowEx 2020 - Gail asking Julia, maybe Daniel"
   ]
  }
 ],
 "metadata": {
  "kernelspec": {
   "display_name": "Python 3 (ipykernel)",
   "language": "python",
   "name": "python3"
  },
  "language_info": {
   "codemirror_mode": {
    "name": "ipython",
    "version": 3
   },
   "file_extension": ".py",
   "mimetype": "text/x-python",
   "name": "python",
   "nbconvert_exporter": "python",
   "pygments_lexer": "ipython3",
   "version": "3.11.9"
  }
 },
 "nbformat": 4,
 "nbformat_minor": 4
}
